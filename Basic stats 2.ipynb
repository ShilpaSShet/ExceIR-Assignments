{
 "cells": [
  {
   "cell_type": "code",
   "execution_count": 7,
   "id": "7edbbafe-943d-4797-a002-894a8867eb52",
   "metadata": {},
   "outputs": [],
   "source": [
    "import scipy.stats as stats\n",
    "import numpy as np\n",
    "import pandas as pd"
   ]
  },
  {
   "cell_type": "markdown",
   "id": "c3a374ea-13da-4921-95f6-ebd651a35431",
   "metadata": {},
   "source": [
    "### Data"
   ]
  },
  {
   "cell_type": "code",
   "execution_count": 3,
   "id": "78fc7bae-3587-4e7a-aa3d-59455b2869cd",
   "metadata": {},
   "outputs": [],
   "source": [
    "##  A total of 15 print-heads were randomly selected and tested until failure. The durability of each print-head (in millions of characters) was recorded as follows:\n",
    "##  1.13, 1.55, 1.43, 0.92, 1.25, 1.36, 1.32, 0.85, 1.07, 1.48, 1.20, 1.33, 1.18, 1.22, 1.29\n"
   ]
  },
  {
   "cell_type": "markdown",
   "id": "bac890d3-3691-4d14-892c-c2f3ed716190",
   "metadata": {},
   "source": [
    "### Step-1 "
   ]
  },
  {
   "cell_type": "code",
   "execution_count": null,
   "id": "764b662b-1273-4253-9552-b52a882da2f4",
   "metadata": {},
   "outputs": [],
   "source": [
    "## Given data \n",
    "## Sample size(n) =15."
   ]
  },
  {
   "cell_type": "code",
   "execution_count": 5,
   "id": "9baf7765-314a-4218-a212-58fe0a9f4157",
   "metadata": {},
   "outputs": [],
   "source": [
    "data = [1.13, 1.55, 1.43, 0.92, 1.25, 1.36, 1.32, 0.85, 1.07, 1.48, 1.20, 1.33, 1.18, 1.22, 1.29]"
   ]
  },
  {
   "cell_type": "code",
   "execution_count": 9,
   "id": "9ad5b284-f26f-4eb2-8ad8-5cdf2210585c",
   "metadata": {},
   "outputs": [
    {
     "data": {
      "text/plain": [
       "1.2386666666666666"
      ]
     },
     "execution_count": 9,
     "metadata": {},
     "output_type": "execute_result"
    }
   ],
   "source": [
    "##Sample mean for the above data given(x_bar)\n",
    "sample_mean =np.mean(data)\n",
    "sample_mean"
   ]
  },
  {
   "cell_type": "code",
   "execution_count": 10,
   "id": "3760bfca-3ab9-4841-9a2c-e8031574103e",
   "metadata": {},
   "outputs": [
    {
     "data": {
      "text/plain": [
       "0.19316412956959936"
      ]
     },
     "execution_count": 10,
     "metadata": {},
     "output_type": "execute_result"
    }
   ],
   "source": [
    "##Sample standard deviation for the above data(s)\n",
    "sample_std =np.std(data ,ddof=1)\n",
    "sample_std"
   ]
  },
  {
   "cell_type": "markdown",
   "id": "d69c41de-c579-4c8f-ac3f-11c666fe9838",
   "metadata": {},
   "source": [
    "## Assignment Tasks"
   ]
  },
  {
   "cell_type": "markdown",
   "id": "f3ef424f-aa00-451f-a32b-e0c1b089e677",
   "metadata": {},
   "source": [
    "#### a. Build 99% Confidence Interval Using Sample Standard Deviation"
   ]
  },
  {
   "cell_type": "markdown",
   "id": "b3836f15-6b9a-419f-bc81-3bf7eeea81c3",
   "metadata": {},
   "source": [
    "### Step -2"
   ]
  },
  {
   "cell_type": "code",
   "execution_count": null,
   "id": "9122f867-d483-480a-804e-9822556789ea",
   "metadata": {},
   "outputs": [],
   "source": [
    "## As the population standard deviation is not given we have to go for t-test\n",
    "## CI = 99%\n",
    "## degree of freedom = n-1 = 15-1 =14\n",
    "## By using the above values we can fine the t_critical value from the t_distribution table i.e =t_critical = 2.977"
   ]
  },
  {
   "cell_type": "code",
   "execution_count": 14,
   "id": "8e5717a2-8a9c-4999-93bc-10384bb5c263",
   "metadata": {},
   "outputs": [
    {
     "data": {
      "text/plain": [
       "2.976842734370834"
      ]
     },
     "execution_count": 14,
     "metadata": {},
     "output_type": "execute_result"
    }
   ],
   "source": [
    "##Another method to calculate the t_critical value is \n",
    "n=15\n",
    "CI=.99\n",
    "alpha=1-0.99\n",
    "df=n -1 \n",
    "t_critical =stats.t.ppf(1- alpha/2 ,df)\n",
    "t_critical"
   ]
  },
  {
   "cell_type": "markdown",
   "id": "c9f49be4-4100-433d-af7a-6b425a336987",
   "metadata": {},
   "source": [
    "### Step- 3"
   ]
  },
  {
   "cell_type": "code",
   "execution_count": 17,
   "id": "78f6ac7c-8847-4d20-998c-18137e165722",
   "metadata": {},
   "outputs": [
    {
     "data": {
      "text/plain": [
       "0.14846932822817596"
      ]
     },
     "execution_count": 17,
     "metadata": {},
     "output_type": "execute_result"
    }
   ],
   "source": [
    "margin_error_t = t_critical * (sample_std /np.sqrt(n))\n",
    "margin_error_t                            "
   ]
  },
  {
   "cell_type": "markdown",
   "id": "362a9d5d-8a20-428a-a1db-43e01941072f",
   "metadata": {},
   "source": [
    "### Step -4"
   ]
  },
  {
   "cell_type": "code",
   "execution_count": 32,
   "id": "9e5508ed-7673-4c68-9a21-9486ee256db8",
   "metadata": {},
   "outputs": [
    {
     "data": {
      "text/plain": [
       "1.3871359948948425"
      ]
     },
     "execution_count": 32,
     "metadata": {},
     "output_type": "execute_result"
    }
   ],
   "source": [
    "##Find the population mean using the above values \n",
    "CI_upper_t= sample_mean + margin_error_t\n",
    "CI_upper_t"
   ]
  },
  {
   "cell_type": "code",
   "execution_count": 33,
   "id": "3e2f9a66-2039-4faf-9300-3586caffb14b",
   "metadata": {},
   "outputs": [
    {
     "data": {
      "text/plain": [
       "1.0901973384384906"
      ]
     },
     "execution_count": 33,
     "metadata": {},
     "output_type": "execute_result"
    }
   ],
   "source": [
    "CI_lower_t =sample_mean - margin_error_t \n",
    "CI_lower_t"
   ]
  },
  {
   "cell_type": "code",
   "execution_count": 24,
   "id": "80cb6dcb-b76e-4dc3-836f-9a1bb4fa6de0",
   "metadata": {},
   "outputs": [],
   "source": [
    "## By using the t_distribution (unknown population standard deviation) CI = (1.065 and 1.387) million characters"
   ]
  },
  {
   "cell_type": "markdown",
   "id": "4532c495-f4cb-40a6-810b-c8a9bd18cba7",
   "metadata": {},
   "source": [
    "#### b. Build 99% Confidence Interval Using Known Population Standard Deviation"
   ]
  },
  {
   "cell_type": "code",
   "execution_count": 29,
   "id": "5b757bc3-37de-4616-bf11-b5259f176623",
   "metadata": {},
   "outputs": [],
   "source": [
    "## Given that \n",
    "## CI = 0.99\n",
    "Pop_std = 0.2\n",
    "## If we know the Population standard deviation we have to go for z-test"
   ]
  },
  {
   "cell_type": "code",
   "execution_count": 30,
   "id": "8e5753b5-f554-46d5-85da-67ad8e36fb6d",
   "metadata": {},
   "outputs": [
    {
     "data": {
      "text/plain": [
       "2.5758293035489004"
      ]
     },
     "execution_count": 30,
     "metadata": {},
     "output_type": "execute_result"
    }
   ],
   "source": [
    "##Find the z_critical vale \n",
    "z_critical =stats.norm.ppf(1 -alpha/2)\n",
    "z_critical"
   ]
  },
  {
   "cell_type": "code",
   "execution_count": 34,
   "id": "4fa893a1-d84e-48c7-99f3-4614ee0d8965",
   "metadata": {},
   "outputs": [
    {
     "data": {
      "text/plain": [
       "0.13301525327090588"
      ]
     },
     "execution_count": 34,
     "metadata": {},
     "output_type": "execute_result"
    }
   ],
   "source": [
    "margin_error_z = z_critical * (Pop_std /np.sqrt(n))\n",
    "margin_error_z"
   ]
  },
  {
   "cell_type": "code",
   "execution_count": 35,
   "id": "e93087a5-d446-4185-8b3b-ddd40827d8fb",
   "metadata": {},
   "outputs": [
    {
     "data": {
      "text/plain": [
       "1.3716819199375725"
      ]
     },
     "execution_count": 35,
     "metadata": {},
     "output_type": "execute_result"
    }
   ],
   "source": [
    "CI_upper_z= sample_mean + margin_error_z\n",
    "CI_upper_z"
   ]
  },
  {
   "cell_type": "code",
   "execution_count": 36,
   "id": "5c0d1661-2577-42de-9060-eecb80aa8f8b",
   "metadata": {},
   "outputs": [
    {
     "data": {
      "text/plain": [
       "1.1056514133957607"
      ]
     },
     "execution_count": 36,
     "metadata": {},
     "output_type": "execute_result"
    }
   ],
   "source": [
    "CI_lower_z =sample_mean - margin_error_z\n",
    "CI_lower_z"
   ]
  },
  {
   "cell_type": "code",
   "execution_count": null,
   "id": "0b58c2a4-feb7-4f6d-b74f-b0b1583963d0",
   "metadata": {},
   "outputs": [],
   "source": [
    "## By using the z_distribution (known population standard deviation) CI = (1.105 and 1.371 million characters"
   ]
  }
 ],
 "metadata": {
  "kernelspec": {
   "display_name": "Python 3 (ipykernel)",
   "language": "python",
   "name": "python3"
  },
  "language_info": {
   "codemirror_mode": {
    "name": "ipython",
    "version": 3
   },
   "file_extension": ".py",
   "mimetype": "text/x-python",
   "name": "python",
   "nbconvert_exporter": "python",
   "pygments_lexer": "ipython3",
   "version": "3.12.7"
  }
 },
 "nbformat": 4,
 "nbformat_minor": 5
}
