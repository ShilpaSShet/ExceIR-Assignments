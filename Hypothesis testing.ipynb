{
 "cells": [
  {
   "cell_type": "markdown",
   "id": "c03ab017-69ad-416a-a179-dc97f1ff7186",
   "metadata": {},
   "source": [
    "## CHI-SQUARE TEST"
   ]
  },
  {
   "cell_type": "markdown",
   "id": "7559602c-ff0a-4822-ae2b-45e8072d5890",
   "metadata": {},
   "source": [
    "#### Association between Device Type and Customer Satisfaction"
   ]
  },
  {
   "cell_type": "code",
   "execution_count": 2,
   "id": "d925784c-65e4-4d5c-9a73-8cee47025fb8",
   "metadata": {},
   "outputs": [],
   "source": [
    "import pandas as pd\n",
    "import numpy as np\n",
    "import matplotlib.pyplot as plt"
   ]
  },
  {
   "cell_type": "code",
   "execution_count": 12,
   "id": "e2f4fca3-f83b-43b9-ab60-0c326ad80be6",
   "metadata": {},
   "outputs": [],
   "source": [
    "##Creating a dataframe by the given data\n",
    "\n",
    "df = pd.DataFrame({\n",
    "    \"Satisfaction\" : [\"Very Satisfied\",\"Satisfied\",\"Neutral\",\"Unsatisfied\",\"Very Unsatisfied\"],\n",
    "    \"Smart Thermostat\": [50,80,60,30,20],\n",
    "    \"Smart Light\": [70,100,90,50,50],\n",
    "    \"Total\" : [120,180,150,80,70]\n",
    "                   \n",
    "})"
   ]
  },
  {
   "cell_type": "code",
   "execution_count": 13,
   "id": "30584dbf-ca68-4546-88a4-2e553dc369fa",
   "metadata": {},
   "outputs": [
    {
     "data": {
      "text/html": [
       "<div>\n",
       "<style scoped>\n",
       "    .dataframe tbody tr th:only-of-type {\n",
       "        vertical-align: middle;\n",
       "    }\n",
       "\n",
       "    .dataframe tbody tr th {\n",
       "        vertical-align: top;\n",
       "    }\n",
       "\n",
       "    .dataframe thead th {\n",
       "        text-align: right;\n",
       "    }\n",
       "</style>\n",
       "<table border=\"1\" class=\"dataframe\">\n",
       "  <thead>\n",
       "    <tr style=\"text-align: right;\">\n",
       "      <th></th>\n",
       "      <th>Satisfaction</th>\n",
       "      <th>Smart Thermostat</th>\n",
       "      <th>Smart Light</th>\n",
       "      <th>Total</th>\n",
       "    </tr>\n",
       "  </thead>\n",
       "  <tbody>\n",
       "    <tr>\n",
       "      <th>0</th>\n",
       "      <td>Very Satisfied</td>\n",
       "      <td>50</td>\n",
       "      <td>70</td>\n",
       "      <td>120</td>\n",
       "    </tr>\n",
       "    <tr>\n",
       "      <th>1</th>\n",
       "      <td>Satisfied</td>\n",
       "      <td>80</td>\n",
       "      <td>100</td>\n",
       "      <td>180</td>\n",
       "    </tr>\n",
       "    <tr>\n",
       "      <th>2</th>\n",
       "      <td>Neutral</td>\n",
       "      <td>60</td>\n",
       "      <td>90</td>\n",
       "      <td>150</td>\n",
       "    </tr>\n",
       "    <tr>\n",
       "      <th>3</th>\n",
       "      <td>Unsatisfied</td>\n",
       "      <td>30</td>\n",
       "      <td>50</td>\n",
       "      <td>80</td>\n",
       "    </tr>\n",
       "    <tr>\n",
       "      <th>4</th>\n",
       "      <td>Very Unsatisfied</td>\n",
       "      <td>20</td>\n",
       "      <td>50</td>\n",
       "      <td>70</td>\n",
       "    </tr>\n",
       "  </tbody>\n",
       "</table>\n",
       "</div>"
      ],
      "text/plain": [
       "       Satisfaction  Smart Thermostat  Smart Light  Total\n",
       "0    Very Satisfied                50           70    120\n",
       "1         Satisfied                80          100    180\n",
       "2           Neutral                60           90    150\n",
       "3       Unsatisfied                30           50     80\n",
       "4  Very Unsatisfied                20           50     70"
      ]
     },
     "execution_count": 13,
     "metadata": {},
     "output_type": "execute_result"
    }
   ],
   "source": [
    "df"
   ]
  },
  {
   "cell_type": "code",
   "execution_count": 14,
   "id": "56ee6a12-f204-4249-a35a-51f6a4e109a6",
   "metadata": {},
   "outputs": [
    {
     "data": {
      "text/plain": [
       "<bound method DataFrame.info of        Satisfaction  Smart Thermostat  Smart Light  Total\n",
       "0    Very Satisfied                50           70    120\n",
       "1         Satisfied                80          100    180\n",
       "2           Neutral                60           90    150\n",
       "3       Unsatisfied                30           50     80\n",
       "4  Very Unsatisfied                20           50     70>"
      ]
     },
     "execution_count": 14,
     "metadata": {},
     "output_type": "execute_result"
    }
   ],
   "source": [
    "df.info"
   ]
  },
  {
   "cell_type": "code",
   "execution_count": 15,
   "id": "09ab53a3-3e59-4cfe-b36b-08ab2ddfe9b4",
   "metadata": {},
   "outputs": [
    {
     "data": {
      "text/plain": [
       "(5, 4)"
      ]
     },
     "execution_count": 15,
     "metadata": {},
     "output_type": "execute_result"
    }
   ],
   "source": [
    "df.shape"
   ]
  },
  {
   "cell_type": "code",
   "execution_count": 16,
   "id": "ee77cf15-98a7-4576-b283-d36a9c49f7bd",
   "metadata": {},
   "outputs": [
    {
     "data": {
      "text/html": [
       "<div>\n",
       "<style scoped>\n",
       "    .dataframe tbody tr th:only-of-type {\n",
       "        vertical-align: middle;\n",
       "    }\n",
       "\n",
       "    .dataframe tbody tr th {\n",
       "        vertical-align: top;\n",
       "    }\n",
       "\n",
       "    .dataframe thead th {\n",
       "        text-align: right;\n",
       "    }\n",
       "</style>\n",
       "<table border=\"1\" class=\"dataframe\">\n",
       "  <thead>\n",
       "    <tr style=\"text-align: right;\">\n",
       "      <th></th>\n",
       "      <th>Smart Thermostat</th>\n",
       "      <th>Smart Light</th>\n",
       "      <th>Total</th>\n",
       "    </tr>\n",
       "  </thead>\n",
       "  <tbody>\n",
       "    <tr>\n",
       "      <th>count</th>\n",
       "      <td>5.000000</td>\n",
       "      <td>5.000000</td>\n",
       "      <td>5.000000</td>\n",
       "    </tr>\n",
       "    <tr>\n",
       "      <th>mean</th>\n",
       "      <td>48.000000</td>\n",
       "      <td>72.000000</td>\n",
       "      <td>120.000000</td>\n",
       "    </tr>\n",
       "    <tr>\n",
       "      <th>std</th>\n",
       "      <td>23.874673</td>\n",
       "      <td>22.803509</td>\n",
       "      <td>46.368092</td>\n",
       "    </tr>\n",
       "    <tr>\n",
       "      <th>min</th>\n",
       "      <td>20.000000</td>\n",
       "      <td>50.000000</td>\n",
       "      <td>70.000000</td>\n",
       "    </tr>\n",
       "    <tr>\n",
       "      <th>25%</th>\n",
       "      <td>30.000000</td>\n",
       "      <td>50.000000</td>\n",
       "      <td>80.000000</td>\n",
       "    </tr>\n",
       "    <tr>\n",
       "      <th>50%</th>\n",
       "      <td>50.000000</td>\n",
       "      <td>70.000000</td>\n",
       "      <td>120.000000</td>\n",
       "    </tr>\n",
       "    <tr>\n",
       "      <th>75%</th>\n",
       "      <td>60.000000</td>\n",
       "      <td>90.000000</td>\n",
       "      <td>150.000000</td>\n",
       "    </tr>\n",
       "    <tr>\n",
       "      <th>max</th>\n",
       "      <td>80.000000</td>\n",
       "      <td>100.000000</td>\n",
       "      <td>180.000000</td>\n",
       "    </tr>\n",
       "  </tbody>\n",
       "</table>\n",
       "</div>"
      ],
      "text/plain": [
       "       Smart Thermostat  Smart Light       Total\n",
       "count          5.000000     5.000000    5.000000\n",
       "mean          48.000000    72.000000  120.000000\n",
       "std           23.874673    22.803509   46.368092\n",
       "min           20.000000    50.000000   70.000000\n",
       "25%           30.000000    50.000000   80.000000\n",
       "50%           50.000000    70.000000  120.000000\n",
       "75%           60.000000    90.000000  150.000000\n",
       "max           80.000000   100.000000  180.000000"
      ]
     },
     "execution_count": 16,
     "metadata": {},
     "output_type": "execute_result"
    }
   ],
   "source": [
    "df.describe()"
   ]
  },
  {
   "cell_type": "markdown",
   "id": "6700f825-a416-40bf-9dbf-be6e9d1b6ba5",
   "metadata": {},
   "source": [
    "##### To use the Chi-Square test for independence to determine if there's a significant association between the type of smart home device purchased (Smart Thermostats vs. Smart Lights) and the customer satisfaction level."
   ]
  },
  {
   "cell_type": "markdown",
   "id": "0e7b34dd-8589-4451-8f0e-ecf423db59a0",
   "metadata": {},
   "source": [
    "##### 1. State the Hypotheses:"
   ]
  },
  {
   "cell_type": "markdown",
   "id": "76901e0b-dd85-44e9-9260-639636071b7a",
   "metadata": {},
   "source": [
    "Ho:There is no significant association between the type of smart home device purchased (Smart Thermostats vs. Smart Lights) and the customer satisfaction level.\n",
    "\n",
    "Ha:There is a significant association between the type of smart home device purchased (Smart Thermostats vs. Smart Lights) and the customer satisfaction level."
   ]
  },
  {
   "cell_type": "markdown",
   "id": "071323d6-d5cf-49bf-a5a4-ce0d8d538ec8",
   "metadata": {},
   "source": [
    "##### 2.Compute the Chi-Square Statistic:"
   ]
  },
  {
   "cell_type": "code",
   "execution_count": 25,
   "id": "0e6ccc6c-13d9-431e-bc34-4d0c8c0fe6a0",
   "metadata": {},
   "outputs": [
    {
     "name": "stdout",
     "output_type": "stream",
     "text": [
      "[[ 50  70]\n",
      " [ 80 100]\n",
      " [ 60  90]\n",
      " [ 30  50]\n",
      " [ 20  50]]\n"
     ]
    }
   ],
   "source": [
    "data = df[['Smart Thermostat','Smart Light']].values\n",
    "print(data)\n"
   ]
  },
  {
   "cell_type": "code",
   "execution_count": 26,
   "id": "58bea252-d855-44fc-92b5-bb0b57719893",
   "metadata": {},
   "outputs": [
    {
     "data": {
      "text/plain": [
       "(5.638227513227513,\n",
       " 0.22784371130697179,\n",
       " 4,\n",
       " array([[ 48.,  72.],\n",
       "        [ 72., 108.],\n",
       "        [ 60.,  90.],\n",
       "        [ 32.,  48.],\n",
       "        [ 28.,  42.]]))"
      ]
     },
     "execution_count": 26,
     "metadata": {},
     "output_type": "execute_result"
    }
   ],
   "source": [
    "import scipy.stats as stats\n",
    "from scipy.stats import chi2_contingency\n",
    "\n",
    "chi2_stat,p_val,dof,expected = stats.chi2_contingency(data)\n",
    "chi2_stat,p_val,dof,expected"
   ]
  },
  {
   "cell_type": "markdown",
   "id": "23e72036-3356-4e8b-951e-5f0da826336f",
   "metadata": {},
   "source": [
    "Formula to calculate Expected value: E = (Total_rows * Total_columns)/Grand_total\n",
    "\n",
    "Formula to calculate Chi-Squared Statistics : chi_square = summation[(Observed_value - Expected_value)**2/Expected_value]"
   ]
  },
  {
   "cell_type": "code",
   "execution_count": 27,
   "id": "ac5bf679-6ab6-44ba-b0f8-9f32dddefc59",
   "metadata": {},
   "outputs": [
    {
     "data": {
      "text/plain": [
       "array([3.38293651, 2.25529101])"
      ]
     },
     "execution_count": 27,
     "metadata": {},
     "output_type": "execute_result"
    }
   ],
   "source": [
    "chi_square = sum([(o-e)**2/e for o,e in zip(data, expected)])\n",
    "chi_square"
   ]
  },
  {
   "cell_type": "code",
   "execution_count": 28,
   "id": "e9e27816-d70d-4ee3-ad33-c3b894cb3b23",
   "metadata": {},
   "outputs": [
    {
     "data": {
      "text/plain": [
       "5.638227513227513"
      ]
     },
     "execution_count": 28,
     "metadata": {},
     "output_type": "execute_result"
    }
   ],
   "source": [
    "chi_square_statistics = chi_square[0]+chi_square[1]\n",
    "chi_square_statistics\n",
    "\n",
    "### We can see manual way and using the function gave the same chi_stats value (that is 5.638227513227513)\n"
   ]
  },
  {
   "cell_type": "markdown",
   "id": "5e037859-cbac-4271-98ec-9c61b013b782",
   "metadata": {},
   "source": [
    "##### 3. Determine the Critical Value:\n",
    "Using the significance level (alpha) of 0.05 and the degrees of freedom (which is the number of categories minus 1)\n"
   ]
  },
  {
   "cell_type": "code",
   "execution_count": 30,
   "id": "be1e01ad-69d8-4e9d-8882-0d0e68eba97e",
   "metadata": {},
   "outputs": [
    {
     "name": "stdout",
     "output_type": "stream",
     "text": [
      "The Critical Value is :  9.487729036781154\n"
     ]
    }
   ],
   "source": [
    "from scipy.stats import chi2\n",
    "\n",
    "alpha=0.05\n",
    "\n",
    "critical_value = chi2.ppf(q=1-alpha, df=dof)   \n",
    "print(\"The Critical Value is : \",critical_value)"
   ]
  },
  {
   "cell_type": "markdown",
   "id": "a497829c-5e90-47df-99bb-838eb3ab5e9f",
   "metadata": {},
   "source": [
    "##### 4. Make a Decision:"
   ]
  },
  {
   "cell_type": "markdown",
   "id": "4b871ed6-96f0-4186-aa49-1c64e75bc9b6",
   "metadata": {},
   "source": [
    "As Critical_value > chi_square_statictics \n",
    "\n",
    "Hence we will failed to reject Ho(Null Hypothesis)"
   ]
  },
  {
   "cell_type": "markdown",
   "id": "6b49e63c-8d87-4564-aaee-0dfc908aad43",
   "metadata": {},
   "source": [
    "## HYPOTHESIS TESTING"
   ]
  },
  {
   "cell_type": "markdown",
   "id": "104cbc96-bec7-476d-93f2-3fd96dc27d84",
   "metadata": {},
   "source": [
    "Objective:\n",
    "To investigate the restaurant owners' claim about the increase in weekly operating costs using hypothesis testing.\n",
    "\n",
    "\n",
    "Data Provided:\n",
    "•\tThe theoretical weekly operating cost model: W = $1,000 + $5X\n",
    "•\tSample of 25 restaurants with a mean weekly cost of Rs. 3,050\n",
    "•\tNumber of units produced in a week (X) follows a normal distribution with a mean (μ) of 600 units and a standard deviation (σ) of 25 units\n"
   ]
  },
  {
   "cell_type": "markdown",
   "id": "486585ff-5d3a-42b3-9b1e-5304bde7f268",
   "metadata": {},
   "source": [
    "#### 1. State the Hypotheses statement:"
   ]
  },
  {
   "cell_type": "markdown",
   "id": "9159ab5d-9ae0-44c1-a9c3-a69cf25b9d8a",
   "metadata": {},
   "source": [
    "Ho :W = $1,000 + $5X that means there is no increase in the weekly operating costs.\n",
    "Ha :W > $1,000 + $5X that means there is an increase in the weekly operating costs."
   ]
  },
  {
   "cell_type": "code",
   "execution_count": 32,
   "id": "aed66930-52f6-46be-a2ec-b737b4aaa171",
   "metadata": {},
   "outputs": [],
   "source": [
    "# data given:\n",
    "µ = 1000+5*600    #(here 600 is units produced in a week)\n",
    "sigma_pop = 5*25   # 25 is the units\n",
    "n=25               # sample size\n",
    "x_bar = 3050       # sample mean \n",
    "alpha = 0.05       # significance level"
   ]
  },
  {
   "cell_type": "markdown",
   "id": "50d91316-fc82-4771-bd7d-e7eb8e2d70cc",
   "metadata": {},
   "source": [
    "#### 2.Calculate the Test Statistic:"
   ]
  },
  {
   "cell_type": "code",
   "execution_count": 33,
   "id": "44cc0896-daec-44df-a34f-01c710e40332",
   "metadata": {},
   "outputs": [
    {
     "data": {
      "text/plain": [
       "-38.0"
      ]
     },
     "execution_count": 33,
     "metadata": {},
     "output_type": "execute_result"
    }
   ],
   "source": [
    "## T_statistics = (sample_mean - population mean)/(sigma_population/sqrt(sample_size))\n",
    "\n",
    "t_statistics = (x_bar - µ)/(sigma_pop/np.sqrt(n))\n",
    "t_statistics \n"
   ]
  },
  {
   "cell_type": "code",
   "execution_count": 34,
   "id": "b5668127-af3e-4a93-9acd-4a6d7c3ff198",
   "metadata": {},
   "outputs": [],
   "source": [
    "## Alpha value is given as 0.05\n",
    "z_critical = 1.645 "
   ]
  },
  {
   "cell_type": "markdown",
   "id": "f158ebd3-46ea-42dd-9dc9-f78ef7f26e09",
   "metadata": {},
   "source": [
    "From the above calculations we can see that \n",
    "t_statistics < z_critical:\n",
    "\n",
    "Hence we failed to reject Null Hypothesis."
   ]
  }
 ],
 "metadata": {
  "kernelspec": {
   "display_name": "Python 3 (ipykernel)",
   "language": "python",
   "name": "python3"
  },
  "language_info": {
   "codemirror_mode": {
    "name": "ipython",
    "version": 3
   },
   "file_extension": ".py",
   "mimetype": "text/x-python",
   "name": "python",
   "nbconvert_exporter": "python",
   "pygments_lexer": "ipython3",
   "version": "3.12.7"
  }
 },
 "nbformat": 4,
 "nbformat_minor": 5
}
