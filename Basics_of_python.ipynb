{
 "cells": [
  {
   "cell_type": "markdown",
   "id": "f7bb09c4-6cb7-4fb0-baeb-fecfec3a374c",
   "metadata": {},
   "source": [
    "#### PRIME NUMBERS"
   ]
  },
  {
   "cell_type": "code",
   "execution_count": 1,
   "id": "9d95803d-f000-4577-b6e1-a222aba552ce",
   "metadata": {},
   "outputs": [],
   "source": [
    "\n",
    "##Write a Python program that checks whether a given number is prime or not. A prime number is a natural number greater than 1 that has no positive divisors other than 1 and itself."
   ]
  },
  {
   "cell_type": "code",
   "execution_count": 2,
   "id": "bda4b40b-1413-4d1b-a44f-870d864eb855",
   "metadata": {},
   "outputs": [],
   "source": [
    "import math"
   ]
  },
  {
   "cell_type": "code",
   "execution_count": 3,
   "id": "61bd5752-8fc0-4a0f-a17d-b92efd506dab",
   "metadata": {},
   "outputs": [],
   "source": [
    "def is_prime(n):\n",
    "    if not isinstance(n, int) or n < 2:\n",
    "        return \"Invalid input! Please enter an integer greater than or equal to 2.\"\n",
    "    \n",
    "    if n in (2, 3):\n",
    "        return \"Number is a Prime Number\"\n",
    "    \n",
    "    if n % 2 == 0 or n % 3 == 0:\n",
    "        return \"Number entered is Not a Prime Number\"\n",
    "    \n",
    "    for i in range(5, int(math.sqrt(n)) + 1, 2):\n",
    "        if n % i == 0:\n",
    "            return \"Number entered is Not a Prime Number\"\n",
    "    \n",
    "    return \"Number is a Prime Number\"\n"
   ]
  },
  {
   "cell_type": "code",
   "execution_count": 4,
   "id": "66fa858c-a2c9-4a75-9c06-ce6747cf701d",
   "metadata": {},
   "outputs": [
    {
     "name": "stdout",
     "output_type": "stream",
     "text": [
      "Number entered is Not a Prime Number\n"
     ]
    }
   ],
   "source": [
    "print(is_prime(35))"
   ]
  },
  {
   "cell_type": "code",
   "execution_count": 5,
   "id": "ad3157b1-c513-4393-99e5-e90c0809771e",
   "metadata": {},
   "outputs": [
    {
     "name": "stdout",
     "output_type": "stream",
     "text": [
      "Number is a Prime Number\n"
     ]
    }
   ],
   "source": [
    "print(is_prime(43))"
   ]
  },
  {
   "cell_type": "code",
   "execution_count": 6,
   "id": "f8752b3b-3ecc-4b1a-b90b-7add90bf2ca7",
   "metadata": {},
   "outputs": [
    {
     "name": "stdout",
     "output_type": "stream",
     "text": [
      "Number entered is Not a Prime Number\n"
     ]
    }
   ],
   "source": [
    "print(is_prime(12))"
   ]
  },
  {
   "cell_type": "markdown",
   "id": "5c2b10ca-fd7a-49ed-ae68-8d0a0a56ea88",
   "metadata": {},
   "source": [
    "#### Product of Random Numbers"
   ]
  },
  {
   "cell_type": "code",
   "execution_count": 7,
   "id": "e83db40d-b395-41ea-8fcf-62f620a5c2bd",
   "metadata": {},
   "outputs": [],
   "source": [
    "\n",
    "##Develop a Python program that generates two random numbers and asks the user to enter the product of these numbers. The program should then check if the user's answer is correct and display an appropriate message."
   ]
  },
  {
   "cell_type": "code",
   "execution_count": null,
   "id": "248f72ba-7fd5-4889-a8b2-1e9eb535b958",
   "metadata": {},
   "outputs": [
    {
     "name": "stdout",
     "output_type": "stream",
     "text": [
      "What is the product of 1 and 3?\n"
     ]
    }
   ],
   "source": [
    "import random\n",
    "\n",
    "# Generate two random numbers between 1 and 10\n",
    "num1 = random.randint(1, 10)\n",
    "num2 = random.randint(1, 10)\n",
    "\n",
    "# Ask the user for the product\n",
    "print(f\"What is the product of {num1} and {num2}?\")\n",
    "user_answer = int(input(\"Enter your answer: \"))\n",
    "\n",
    "# Check the answer\n",
    "correct_answer = num1 * num2\n",
    "\n",
    "if user_answer == correct_answer:\n",
    "    print(\"Correct! Well done.\")\n",
    "else:\n",
    "    print(f\"Incorrect. The correct answer is {correct_answer}.\")"
   ]
  },
  {
   "cell_type": "markdown",
   "id": "6485274b-0636-4451-a9e7-505612e5bb8b",
   "metadata": {},
   "source": [
    "#### Squares of Even/Odd Numbers"
   ]
  },
  {
   "cell_type": "code",
   "execution_count": null,
   "id": "8f19b931-b472-40af-bd16-876959df890f",
   "metadata": {},
   "outputs": [],
   "source": [
    "##Create a Python script that prints the squares of all even or odd numbers within the range of 100 to 200. Choose either even or odd numbers and document your choice in the code."
   ]
  },
  {
   "cell_type": "code",
   "execution_count": null,
   "id": "0a97362d-062c-49b6-a962-1b5d60403cf4",
   "metadata": {},
   "outputs": [],
   "source": [
    "##For Even Numbers\n",
    "\n",
    "for num in range (100,201):\n",
    "    if num % 2 ==0:\n",
    "        square =num**2\n",
    "        print(f\"Square of {num} is {square}\")\n",
    "    "
   ]
  },
  {
   "cell_type": "markdown",
   "id": "63c39315-8bd8-4eee-894f-5d9323bc7c04",
   "metadata": {},
   "source": [
    "#### Word Counter"
   ]
  },
  {
   "cell_type": "code",
   "execution_count": null,
   "id": "3bd1e1dc-b049-4450-9b06-bea07dfb2c03",
   "metadata": {},
   "outputs": [],
   "source": [
    "##write a program to count the number of words in a given text."
   ]
  },
  {
   "cell_type": "code",
   "execution_count": null,
   "id": "8a85ef6a-3832-4fb2-b2ce-2956074c5995",
   "metadata": {},
   "outputs": [],
   "source": [
    "from collections import Counter "
   ]
  },
  {
   "cell_type": "code",
   "execution_count": null,
   "id": "8989dd4e-e81e-417d-9870-e42bb626dc46",
   "metadata": {},
   "outputs": [],
   "source": [
    "##input text\n",
    "input_text=\"The shore has come to an end,it's all over the world\"\n",
    "\n",
    "##Split into words\n",
    "words= input_text.split()\n",
    "##Count each words\n",
    "word_count =Counter(words)\n",
    "\n",
    "\n",
    "##to display the results\n",
    "for word,count in word_count.items():\n",
    "    print(f\"'{word}':{count}\")"
   ]
  },
  {
   "cell_type": "markdown",
   "id": "6ddf6b03-7755-44c2-bb8c-019e29510b29",
   "metadata": {},
   "source": [
    "#### Check for Palindrome"
   ]
  },
  {
   "cell_type": "code",
   "execution_count": null,
   "id": "fa654155-5492-426f-a0eb-0a075eea36c2",
   "metadata": {},
   "outputs": [],
   "source": [
    "#Write a Python function called is_palindrome that takes a string as input and returns True if the string is a palindrome, and False otherwise. A palindrome is a word, phrase, number, or other sequence of characters that reads the same forward and backward, ignoring spaces, punctuation, and capitalization."
   ]
  },
  {
   "cell_type": "code",
   "execution_count": null,
   "id": "dbab3f60-0a50-48f5-91ef-a8ab726c9d88",
   "metadata": {},
   "outputs": [],
   "source": [
    "def is_palindrome(text):\n",
    "    # Convert to lowercase\n",
    "    text = text.lower()\n",
    "    \n",
    "    # Remove spaces\n",
    "    text = text.replace(\" \", \"\")\n",
    "    \n",
    "    # Check if the string is equal to its reverse\n",
    "    return text == text[::-1]\n"
   ]
  },
  {
   "cell_type": "code",
   "execution_count": null,
   "id": "1bc80d57-5a9f-42bd-9209-b14ac83f26e8",
   "metadata": {},
   "outputs": [],
   "source": [
    "print(is_palindrome(\"racecar\"))"
   ]
  },
  {
   "cell_type": "code",
   "execution_count": null,
   "id": "e4336109-c9a1-4c64-8b89-8761d60c3d35",
   "metadata": {},
   "outputs": [],
   "source": [
    "print(is_palindrome(\"peep\"))"
   ]
  },
  {
   "cell_type": "code",
   "execution_count": null,
   "id": "6f4f152e-6012-49e0-9b5d-d4b963260a93",
   "metadata": {},
   "outputs": [],
   "source": [
    "print(is_palindrome(\"noon\"))"
   ]
  },
  {
   "cell_type": "code",
   "execution_count": null,
   "id": "8a037e39-0cc2-4556-9ee7-95047655770a",
   "metadata": {},
   "outputs": [],
   "source": [
    "print(is_palindrome(\"television\"))"
   ]
  }
 ],
 "metadata": {
  "kernelspec": {
   "display_name": "Python 3 (ipykernel)",
   "language": "python",
   "name": "python3"
  },
  "language_info": {
   "codemirror_mode": {
    "name": "ipython",
    "version": 3
   },
   "file_extension": ".py",
   "mimetype": "text/x-python",
   "name": "python",
   "nbconvert_exporter": "python",
   "pygments_lexer": "ipython3",
   "version": "3.12.7"
  }
 },
 "nbformat": 4,
 "nbformat_minor": 5
}
